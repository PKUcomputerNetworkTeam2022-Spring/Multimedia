{
 "cells": [
  {
   "cell_type": "code",
   "execution_count": null,
   "metadata": {},
   "outputs": [],
   "source": [
    "from API import *\n",
    "set_debug(False)"
   ]
  },
  {
   "cell_type": "code",
   "execution_count": null,
   "metadata": {},
   "outputs": [],
   "source": [
    "url = 'https://'\n",
    "task_create(url)"
   ]
  },
  {
   "cell_type": "code",
   "execution_count": null,
   "metadata": {},
   "outputs": [],
   "source": [
    "tasks = [\n",
    "    # '6283cba533970a6a4ffec5d4',\n",
    "    # '62851739cc3dec1a31e6f09b',\n",
    "    # '628517744d610b97d9876b9d',\n",
    "    # '628517ac33970a6a4fff4749',\n",
    "    # '6288830b4d610b97d98aefbc',\n",
    "    # '6288863c33970a6a4f02d4e8',\n",
    "    # '6291f62833970a9910277cd6',\n",
    "    # '6291f64c33970a9910277cda',\n",
    "]\n",
    "path = 'output/output.txt'\n",
    "# path = '.txt'\n",
    "tasks_query(*tasks, path=path)"
   ]
  },
  {
   "cell_type": "code",
   "execution_count": null,
   "metadata": {},
   "outputs": [],
   "source": [
    "from edit.audio import video2wav\n",
    "path = ''\n",
    "video2wav(path)"
   ]
  }
 ],
 "metadata": {
  "interpreter": {
   "hash": "911767ce72220a2beb753017f3af213536436d46a71e6946dc7673bd0c8889b4"
  },
  "kernelspec": {
   "display_name": "Python 3.8.5 64-bit",
   "language": "python",
   "name": "python3"
  },
  "language_info": {
   "codemirror_mode": {
    "name": "ipython",
    "version": 3
   },
   "file_extension": ".py",
   "mimetype": "text/x-python",
   "name": "python",
   "nbconvert_exporter": "python",
   "pygments_lexer": "ipython3",
   "version": "3.8.5"
  },
  "orig_nbformat": 4
 },
 "nbformat": 4,
 "nbformat_minor": 2
}
